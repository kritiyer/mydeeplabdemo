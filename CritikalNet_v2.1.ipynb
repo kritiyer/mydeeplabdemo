{
  "nbformat": 4,
  "nbformat_minor": 0,
  "metadata": {
    "colab": {
      "name": "mydeeplab.ipynb",
      "provenance": [],
      "include_colab_link": true
    },
    "kernelspec": {
      "name": "python3",
      "display_name": "Python 3"
    }
  },
  "cells": [
    {
      "cell_type": "markdown",
      "metadata": {
        "id": "view-in-github",
        "colab_type": "text"
      },
      "source": [
        "<a href=\"https://colab.research.google.com/github/kritiyer/mydeeplabdemo/blob/master/CritikalNet_v2.1.ipynb\" target=\"_parent\"><img src=\"https://colab.research.google.com/assets/colab-badge.svg\" alt=\"Open In Colab\"/></a>"
      ]
    },
    {
      "cell_type": "code",
      "metadata": {
        "id": "TO5vIf8HgUyq",
        "colab_type": "code",
        "outputId": "24598dd4-0924-4f1e-9310-499f9487a45c",
        "colab": {
          "resources": {
            "http://localhost:8080/nbextensions/google.colab/files.js": {
              "data": "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",
              "ok": true,
              "headers": [
                [
                  "content-type",
                  "application/javascript"
                ]
              ],
              "status": 200,
              "status_text": ""
            }
          },
          "base_uri": "https://localhost:8080/",
          "height": 112
        },
        "cellView": "form"
      },
      "source": [
        "#@title Upload model.py\n",
        "from google.colab import files\n",
        "files.upload()"
      ],
      "execution_count": 2,
      "outputs": [
        {
          "output_type": "display_data",
          "data": {
            "text/html": [
              "\n",
              "     <input type=\"file\" id=\"files-50afa96e-69bd-4a59-a4df-29ea6067a35d\" name=\"files[]\" multiple disabled />\n",
              "     <output id=\"result-50afa96e-69bd-4a59-a4df-29ea6067a35d\">\n",
              "      Upload widget is only available when the cell has been executed in the\n",
              "      current browser session. Please rerun this cell to enable.\n",
              "      </output>\n",
              "      <script src=\"/nbextensions/google.colab/files.js\"></script> "
            ],
            "text/plain": [
              "<IPython.core.display.HTML object>"
            ]
          },
          "metadata": {
            "tags": []
          }
        },
        {
          "output_type": "stream",
          "text": [
            "Saving model.py to model.py\n"
          ],
          "name": "stdout"
        },
        {
          "output_type": "execute_result",
          "data": {
            "text/plain": [
              "{'model.py': b'# -*- coding: utf-8 -*-\\n\\n\"\"\" Deeplabv3+ model for Keras.\\nThis model is based on TF repo:\\nhttps://github.com/tensorflow/models/tree/master/research/deeplab\\nOn Pascal VOC, original model gets to 84.56% mIOU\\n\\nMobileNetv2 backbone is based on this repo:\\nhttps://github.com/JonathanCMitchell/mobilenet_v2_keras\\n\\n# Reference\\n- [Encoder-Decoder with Atrous Separable Convolution\\n    for Semantic Image Segmentation](https://arxiv.org/pdf/1802.02611.pdf)\\n- [Xception: Deep Learning with Depthwise Separable Convolutions]\\n    (https://arxiv.org/abs/1610.02357)\\n- [Inverted Residuals and Linear Bottlenecks: Mobile Networks for\\n    Classification, Detection and Segmentation](https://arxiv.org/abs/1801.04381)\\n\"\"\"\\n\\nfrom __future__ import absolute_import\\nfrom __future__ import division\\nfrom __future__ import print_function\\n\\nimport numpy as np\\nimport tensorflow as tf\\nfrom keras import backend as K\\n\\nfrom tensorflow.keras.models import Model\\nfrom tensorflow.keras import layers\\nfrom tensorflow.keras.layers import Input, Reshape\\nfrom tensorflow.keras.layers import Lambda\\nfrom tensorflow.keras.layers import Activation\\nfrom tensorflow.keras.layers import Concatenate\\nfrom tensorflow.keras.layers import Add\\nfrom tensorflow.keras.layers import Dropout\\nfrom tensorflow.keras.layers import BatchNormalization #alternative: tf.nn.batch_normalization\\nfrom tensorflow.keras.layers import Conv2D\\nfrom tensorflow.keras.layers import DepthwiseConv2D\\nfrom tensorflow.keras.layers import ZeroPadding2D\\nfrom tensorflow.keras.layers import AveragePooling2D\\nfrom tensorflow.keras.layers import GlobalAveragePooling2D\\nfrom tensorflow.keras.layers import Layer\\nfrom tensorflow.keras.layers import InputSpec\\nfrom tensorflow.python.keras.utils.layer_utils import get_source_inputs\\nfrom tensorflow.python.keras.applications import imagenet_utils\\nfrom tensorflow.python.keras.utils import conv_utils\\nfrom tensorflow.python.keras.utils.data_utils import get_file\\n\\nWEIGHTS_PATH_X = \"https://github.com/bonlime/keras-deeplab-v3-plus/releases/download/1.1/deeplabv3_xception_tf_dim_ordering_tf_kernels.h5\"\\nWEIGHTS_PATH_MOBILE = \"https://github.com/bonlime/keras-deeplab-v3-plus/releases/download/1.1/deeplabv3_mobilenetv2_tf_dim_ordering_tf_kernels.h5\"\\nWEIGHTS_PATH_X_CS = \"https://github.com/bonlime/keras-deeplab-v3-plus/releases/download/1.2/deeplabv3_xception_tf_dim_ordering_tf_kernels_cityscapes.h5\"\\nWEIGHTS_PATH_MOBILE_CS = \"https://github.com/bonlime/keras-deeplab-v3-plus/releases/download/1.2/deeplabv3_mobilenetv2_tf_dim_ordering_tf_kernels_cityscapes.h5\"\\n\\n#added Bilinear upsampling def from old model.py to eliminate lambda layer_utils\\nclass BilinearUpsampling(Layer):\\n    \"\"\"Just a simple bilinear upsampling layer. Works only with TF.\\n       Args:\\n           upsampling: tuple of 2 numbers > 0. The upsampling ratio for h and w\\n           output_size: used instead of upsampling arg if passed!\\n    \"\"\"\\n\\n    def __init__(self, upsampling=(2, 2), output_size=None, data_format=None, **kwargs):\\n\\n        super(BilinearUpsampling, self).__init__(**kwargs)\\n\\n        self.data_format = K.normalize_data_format(data_format)\\n        self.input_spec = InputSpec(ndim=4)\\n        if output_size:\\n            self.output_size = conv_utils.normalize_tuple(\\n                output_size, 2, \\'output_size\\')\\n            self.upsampling = None\\n        else:\\n            self.output_size = None\\n            self.upsampling = conv_utils.normalize_tuple(\\n                upsampling, 2, \\'upsampling\\')\\n\\n    def compute_output_shape(self, input_shape):\\n        if self.upsampling:\\n            height = self.upsampling[0] * \\\\\\n                input_shape[1] if input_shape[1] is not None else None\\n            width = self.upsampling[1] * \\\\\\n                input_shape[2] if input_shape[2] is not None else None\\n        else:\\n            height = self.output_size[0]\\n            width = self.output_size[1]\\n        return (input_shape[0],\\n                height,\\n                width,\\n                input_shape[3])\\n\\n    def call(self, inputs):\\n        if self.upsampling:\\n            #Kritika changed tf.image to compat for tf2.0\\n            return tf.compat.v1.image.resize_bilinear(inputs, (inputs.shape[1] * self.upsampling[0],\\n                                                       inputs.shape[2] * self.upsampling[1]),\\n                                              align_corners=True)\\n\\n        else:\\n            #Kritika changed tf.image to compat for tf2.0\\n            return tf.compat.v1.image.resize_bilinear(inputs, (self.output_size[0],\\n                                                       self.output_size[1]),\\n                                              align_corners=True)\\n\\n    def get_config(self):\\n        config = {\\'upsampling\\': self.upsampling,\\n                  \\'output_size\\': self.output_size,\\n                  \\'data_format\\': self.data_format}\\n        base_config = super(BilinearUpsampling, self).get_config()\\n        return dict(list(base_config.items()) + list(config.items()))\\n## end of addition\\n\\ndef SepConv_BN(x, filters, prefix, stride=1, kernel_size=3, rate=1, depth_activation=False, epsilon=1e-3):\\n    \"\"\" SepConv with BN between depthwise & pointwise. Optionally add activation after BN\\n        Implements right \"same\" padding for even kernel sizes\\n        Args:\\n            x: input tensor\\n            filters: num of filters in pointwise convolution\\n            prefix: prefix before name\\n            stride: stride at depthwise conv\\n            kernel_size: kernel size for depthwise convolution\\n            rate: atrous rate for depthwise convolution\\n            depth_activation: flag to use activation between depthwise & poinwise convs\\n            epsilon: epsilon to use in BN layer\\n    \"\"\"\\n\\n    if stride == 1:\\n        depth_padding = \\'same\\'\\n    else:\\n        kernel_size_effective = kernel_size + (kernel_size - 1) * (rate - 1)\\n        pad_total = kernel_size_effective - 1\\n        pad_beg = pad_total // 2\\n        pad_end = pad_total - pad_beg\\n        x = ZeroPadding2D((pad_beg, pad_end))(x)\\n        depth_padding = \\'valid\\'\\n\\n    if not depth_activation:\\n        x = Activation(\\'relu\\')(x)\\n    x = DepthwiseConv2D((kernel_size, kernel_size), strides=(stride, stride), dilation_rate=(rate, rate),\\n                        padding=depth_padding, use_bias=False, name=prefix + \\'_depthwise\\')(x)\\n    x = BatchNormalization(name=prefix + \\'_depthwise_BN\\', epsilon=epsilon)(x)\\n    if depth_activation:\\n        x = Activation(\\'relu\\')(x)\\n    x = Conv2D(filters, (1, 1), padding=\\'same\\',\\n               use_bias=False, name=prefix + \\'_pointwise\\')(x)\\n    x = BatchNormalization(name=prefix + \\'_pointwise_BN\\', epsilon=epsilon)(x)\\n    if depth_activation:\\n        x = Activation(\\'relu\\')(x)\\n\\n    return x\\n\\n\\ndef _conv2d_same(x, filters, prefix, stride=1, kernel_size=3, rate=1):\\n    \"\"\"Implements right \\'same\\' padding for even kernel sizes\\n        Without this there is a 1 pixel drift when stride = 2\\n        Args:\\n            x: input tensor\\n            filters: num of filters in pointwise convolution\\n            prefix: prefix before name\\n            stride: stride at depthwise conv\\n            kernel_size: kernel size for depthwise convolution\\n            rate: atrous rate for depthwise convolution\\n    \"\"\"\\n    if stride == 1:\\n        return Conv2D(filters,\\n                      (kernel_size, kernel_size),\\n                      strides=(stride, stride),\\n                      padding=\\'same\\', use_bias=False,\\n                      dilation_rate=(rate, rate),\\n                      name=prefix)(x)\\n    else:\\n        kernel_size_effective = kernel_size + (kernel_size - 1) * (rate - 1)\\n        pad_total = kernel_size_effective - 1\\n        pad_beg = pad_total // 2\\n        pad_end = pad_total - pad_beg\\n        x = ZeroPadding2D((pad_beg, pad_end))(x)\\n        return Conv2D(filters,\\n                      (kernel_size, kernel_size),\\n                      strides=(stride, stride),\\n                      padding=\\'valid\\', use_bias=False,\\n                      dilation_rate=(rate, rate),\\n                      name=prefix)(x)\\n\\n\\ndef _xception_block(inputs, depth_list, prefix, skip_connection_type, stride,\\n                    rate=1, depth_activation=False, return_skip=False):\\n    \"\"\" Basic building block of modified Xception network\\n        Args:\\n            inputs: input tensor\\n            depth_list: number of filters in each SepConv layer. len(depth_list) == 3\\n            prefix: prefix before name\\n            skip_connection_type: one of {\\'conv\\',\\'sum\\',\\'none\\'}\\n            stride: stride at last depthwise conv\\n            rate: atrous rate for depthwise convolution\\n            depth_activation: flag to use activation between depthwise & pointwise convs\\n            return_skip: flag to return additional tensor after 2 SepConvs for decoder\\n            \"\"\"\\n    residual = inputs\\n    for i in range(3):\\n        residual = SepConv_BN(residual,\\n                              depth_list[i],\\n                              prefix + \\'_separable_conv{}\\'.format(i + 1),\\n                              stride=stride if i == 2 else 1,\\n                              rate=rate,\\n                              depth_activation=depth_activation)\\n        if i == 1:\\n            skip = residual\\n    if skip_connection_type == \\'conv\\':\\n        shortcut = _conv2d_same(inputs, depth_list[-1], prefix + \\'_shortcut\\',\\n                                kernel_size=1,\\n                                stride=stride)\\n        shortcut = BatchNormalization(name=prefix + \\'_shortcut_BN\\')(shortcut)\\n        outputs = layers.add([residual, shortcut])\\n    elif skip_connection_type == \\'sum\\':\\n        outputs = layers.add([residual, inputs])\\n    elif skip_connection_type == \\'none\\':\\n        outputs = residual\\n    if return_skip:\\n        return outputs, skip\\n    else:\\n        return outputs\\n\\n\\ndef relu6(x):\\n    return tf.keras.activations.relu(x, max_value=6)\\n\\n\\ndef _make_divisible(v, divisor, min_value=None):\\n    if min_value is None:\\n        min_value = divisor\\n    new_v = max(min_value, int(v + divisor / 2) // divisor * divisor)\\n    # Make sure that round down does not go down by more than 10%.\\n    if new_v < 0.9 * v:\\n        new_v += divisor\\n    return new_v\\n\\n\\ndef _inverted_res_block(inputs, expansion, stride, alpha, filters, block_id, skip_connection, rate=1):\\n    in_channels =  inputs.shape[-1] #inputs._keras_shape[-1]\\n    pointwise_conv_filters = int(filters * alpha)\\n    pointwise_filters = _make_divisible(pointwise_conv_filters, 8)\\n    x = inputs\\n    prefix = \\'expanded_conv_{}_\\'.format(block_id)\\n    if block_id:\\n        # Expand\\n\\n        x = Conv2D(expansion * in_channels, kernel_size=1, padding=\\'same\\',\\n                   use_bias=False, activation=None,\\n                   name=prefix + \\'expand\\')(x)\\n        x = BatchNormalization(epsilon=1e-3, momentum=0.999,\\n                               name=prefix + \\'expand_BN\\')(x)\\n        x = Activation(relu6, name=prefix + \\'expand_relu\\')(x)\\n    else:\\n        prefix = \\'expanded_conv_\\'\\n    # Depthwise\\n    x = DepthwiseConv2D(kernel_size=3, strides=stride, activation=None,\\n                        use_bias=False, padding=\\'same\\', dilation_rate=(rate, rate),\\n                        name=prefix + \\'depthwise\\')(x)\\n    x = BatchNormalization(epsilon=1e-3, momentum=0.999,\\n                           name=prefix + \\'depthwise_BN\\')(x)\\n\\n    x = Activation(relu6, name=prefix + \\'depthwise_relu\\')(x)\\n\\n    # Project\\n    x = Conv2D(pointwise_filters,\\n               kernel_size=1, padding=\\'same\\', use_bias=False, activation=None,\\n               name=prefix + \\'project\\')(x)\\n    x = BatchNormalization(epsilon=1e-3, momentum=0.999,\\n                           name=prefix + \\'project_BN\\')(x)\\n\\n    if skip_connection:\\n        return Add(name=prefix + \\'add\\')([inputs, x])\\n\\n    # if in_channels == pointwise_filters and stride == 1:\\n    #    return Add(name=\\'res_connect_\\' + str(block_id))([inputs, x])\\n\\n    return x\\n\\n\\ndef Deeplabv3(weights=\\'pascal_voc\\', input_tensor=None, input_shape=(512, 512, 3), classes=21, backbone=\\'mobilenetv2\\', OS=16, alpha=1., activation=None):\\n    \"\"\" Instantiates the Deeplabv3+ architecture\\n\\n    Optionally loads weights pre-trained\\n    on PASCAL VOC or Cityscapes. This model is available for TensorFlow only.\\n    # Arguments\\n        weights: one of \\'pascal_voc\\' (pre-trained on pascal voc),\\n            \\'cityscapes\\' (pre-trained on cityscape) or None (random initialization)\\n        input_tensor: optional Keras tensor (i.e. output of `layers.Input()`)\\n            to use as image input for the model.\\n        input_shape: shape of input image. format HxWxC\\n            PASCAL VOC model was trained on (512,512,3) images. None is allowed as shape/width\\n        classes: number of desired classes. PASCAL VOC has 21 classes, Cityscapes has 19 classes.\\n            If number of classes not aligned with the weights used, last layer is initialized randomly\\n        backbone: backbone to use. one of {\\'xception\\',\\'mobilenetv2\\'}\\n        activation: optional activation to add to the top of the network.\\n            One of \\'softmax\\', \\'sigmoid\\' or None\\n        OS: determines input_shape/feature_extractor_output ratio. One of {8,16}.\\n            Used only for xception backbone.\\n        alpha: controls the width of the MobileNetV2 network. This is known as the\\n            width multiplier in the MobileNetV2 paper.\\n                - If `alpha` < 1.0, proportionally decreases the number\\n                    of filters in each layer.\\n                - If `alpha` > 1.0, proportionally increases the number\\n                    of filters in each layer.\\n                - If `alpha` = 1, default number of filters from the paper\\n                    are used at each layer.\\n            Used only for mobilenetv2 backbone. Pretrained is only available for alpha=1.\\n\\n    # Returns\\n        A Keras model instance.\\n\\n    # Raises\\n        RuntimeError: If attempting to run this model with a\\n            backend that does not support separable convolutions.\\n        ValueError: in case of invalid argument for `weights` or `backbone`\\n\\n    \"\"\"\\n\\n    if not (weights in {\\'pascal_voc\\', \\'cityscapes\\', \\'angio\\', None}):\\n        raise ValueError(\\'The `weights` argument should be either \\'\\n                         \\'`None` (random initialization), `pascal_voc`, `angio`, or `cityscapes` \\'\\n                         \\'(pre-trained on PASCAL VOC)\\')\\n\\n    if not (backbone in {\\'xception\\', \\'mobilenetv2\\'}):\\n        raise ValueError(\\'The `backbone` argument should be either \\'\\n                         \\'`xception`  or `mobilenetv2` \\')\\n\\n    if input_tensor is None:\\n        img_input = Input(shape=input_shape)\\n    else:\\n        img_input = input_tensor\\n\\n    if backbone == \\'xception\\':\\n        if OS == 8:\\n            entry_block3_stride = 1\\n            middle_block_rate = 2  # ! Not mentioned in paper, but required\\n            exit_block_rates = (2, 4)\\n            atrous_rates = (12, 24, 36)\\n        else:\\n            entry_block3_stride = 2\\n            middle_block_rate = 1\\n            exit_block_rates = (1, 2)\\n            atrous_rates = (6, 12, 18)\\n\\n        x = Conv2D(32, (3, 3), strides=(2, 2),\\n                   name=\\'entry_flow_conv1_1\\', use_bias=False, padding=\\'same\\')(img_input)\\n        x = BatchNormalization(name=\\'entry_flow_conv1_1_BN\\')(x)\\n        x = Activation(\\'relu\\')(x)\\n\\n        x = _conv2d_same(x, 64, \\'entry_flow_conv1_2\\', kernel_size=3, stride=1)\\n        x = BatchNormalization(name=\\'entry_flow_conv1_2_BN\\')(x)\\n        x = Activation(\\'relu\\')(x)\\n\\n        x = _xception_block(x, [128, 128, 128], \\'entry_flow_block1\\',\\n                            skip_connection_type=\\'conv\\', stride=2,\\n                            depth_activation=False)\\n        x, skip1 = _xception_block(x, [256, 256, 256], \\'entry_flow_block2\\',\\n                                   skip_connection_type=\\'conv\\', stride=2,\\n                                   depth_activation=False, return_skip=True)\\n\\n        x = _xception_block(x, [728, 728, 728], \\'entry_flow_block3\\',\\n                            skip_connection_type=\\'conv\\', stride=entry_block3_stride,\\n                            depth_activation=False)\\n        for i in range(16):\\n            x = _xception_block(x, [728, 728, 728], \\'middle_flow_unit_{}\\'.format(i + 1),\\n                                skip_connection_type=\\'sum\\', stride=1, rate=middle_block_rate,\\n                                depth_activation=False)\\n\\n        x = _xception_block(x, [728, 1024, 1024], \\'exit_flow_block1\\',\\n                            skip_connection_type=\\'conv\\', stride=1, rate=exit_block_rates[0],\\n                            depth_activation=False)\\n        x = _xception_block(x, [1536, 1536, 2048], \\'exit_flow_block2\\',\\n                            skip_connection_type=\\'none\\', stride=1, rate=exit_block_rates[1],\\n                            depth_activation=True)\\n\\n    else:\\n        OS = 8\\n        first_block_filters = _make_divisible(32 * alpha, 8)\\n        x = Conv2D(first_block_filters,\\n                   kernel_size=3,\\n                   strides=(2, 2), padding=\\'same\\',\\n                   use_bias=False, name=\\'Conv\\')(img_input)\\n        x = BatchNormalization(\\n            epsilon=1e-3, momentum=0.999, name=\\'Conv_BN\\')(x)\\n        x = Activation(relu6, name=\\'Conv_Relu6\\')(x)\\n\\n        x = _inverted_res_block(x, filters=16, alpha=alpha, stride=1,\\n                                expansion=1, block_id=0, skip_connection=False)\\n\\n        x = _inverted_res_block(x, filters=24, alpha=alpha, stride=2,\\n                                expansion=6, block_id=1, skip_connection=False)\\n        x = _inverted_res_block(x, filters=24, alpha=alpha, stride=1,\\n                                expansion=6, block_id=2, skip_connection=True)\\n\\n        x = _inverted_res_block(x, filters=32, alpha=alpha, stride=2,\\n                                expansion=6, block_id=3, skip_connection=False)\\n        x = _inverted_res_block(x, filters=32, alpha=alpha, stride=1,\\n                                expansion=6, block_id=4, skip_connection=True)\\n        x = _inverted_res_block(x, filters=32, alpha=alpha, stride=1,\\n                                expansion=6, block_id=5, skip_connection=True)\\n\\n        # stride in block 6 changed from 2 -> 1, so we need to use rate = 2\\n        x = _inverted_res_block(x, filters=64, alpha=alpha, stride=1,  # 1!\\n                                expansion=6, block_id=6, skip_connection=False)\\n        x = _inverted_res_block(x, filters=64, alpha=alpha, stride=1, rate=2,\\n                                expansion=6, block_id=7, skip_connection=True)\\n        x = _inverted_res_block(x, filters=64, alpha=alpha, stride=1, rate=2,\\n                                expansion=6, block_id=8, skip_connection=True)\\n        x = _inverted_res_block(x, filters=64, alpha=alpha, stride=1, rate=2,\\n                                expansion=6, block_id=9, skip_connection=True)\\n\\n        x = _inverted_res_block(x, filters=96, alpha=alpha, stride=1, rate=2,\\n                                expansion=6, block_id=10, skip_connection=False)\\n        x = _inverted_res_block(x, filters=96, alpha=alpha, stride=1, rate=2,\\n                                expansion=6, block_id=11, skip_connection=True)\\n        x = _inverted_res_block(x, filters=96, alpha=alpha, stride=1, rate=2,\\n                                expansion=6, block_id=12, skip_connection=True)\\n\\n        x = _inverted_res_block(x, filters=160, alpha=alpha, stride=1, rate=2,  # 1!\\n                                expansion=6, block_id=13, skip_connection=False)\\n        x = _inverted_res_block(x, filters=160, alpha=alpha, stride=1, rate=4,\\n                                expansion=6, block_id=14, skip_connection=True)\\n        x = _inverted_res_block(x, filters=160, alpha=alpha, stride=1, rate=4,\\n                                expansion=6, block_id=15, skip_connection=True)\\n\\n        x = _inverted_res_block(x, filters=320, alpha=alpha, stride=1, rate=4,\\n                                expansion=6, block_id=16, skip_connection=False)\\n\\n    # end of feature extractor\\n\\n    # branching for Atrous Spatial Pyramid Pooling\\n\\n    # Image Feature branch\\n    #shape_before = tf.shape(x)\\n    # b4 = GlobalAveragePooling2D()(x)\\n    # b4 = tf.expand_dims(tf.expand_dims(b4, 1),1) # from (b_size, channels)->(b_size, 1, 1, channels)\\n\\n    #added this from previous version of deeplab\\n    b4 = AveragePooling2D(pool_size=(int(np.ceil(input_shape[0] / OS)), int(np.ceil(input_shape[1] / OS))))(x)\\n    b4 = Conv2D(256, (1, 1), padding=\\'same\\',\\n                use_bias=False, name=\\'image_pooling\\')(b4)\\n    b4 = BatchNormalization(name=\\'image_pooling_BN\\', epsilon=1e-5)(b4)\\n    b4 = Activation(\\'relu\\')(b4)\\n    #upsample. have to use compat because of the option align_corners\\n        # b4 = Lambda(lambda x: tf.compat.v1.image.resize(x, shape_before[1:3],\\n        #                                                 method=\\'bilinear\\',align_corners=True))(b4)\\n    b4 = BilinearUpsampling((int(np.ceil(input_shape[0] / OS)), int(np.ceil(input_shape[1] / OS))))(b4)\\n    # simple 1x1\\n    b0 = Conv2D(256, (1, 1), padding=\\'same\\', use_bias=False, name=\\'aspp0\\')(x)\\n    b0 = BatchNormalization(name=\\'aspp0_BN\\', epsilon=1e-5)(b0)\\n    b0 = Activation(\\'relu\\', name=\\'aspp0_activation\\')(b0)\\n\\n    # there are only 2 branches in mobilenetV2. not sure why\\n    if backbone == \\'xception\\':\\n        # rate = 6 (12)\\n        b1 = SepConv_BN(x, 256, \\'aspp1\\',\\n                        rate=atrous_rates[0], depth_activation=True, epsilon=1e-5)\\n        # rate = 12 (24)\\n        b2 = SepConv_BN(x, 256, \\'aspp2\\',\\n                        rate=atrous_rates[1], depth_activation=True, epsilon=1e-5)\\n        # rate = 18 (36)\\n        b3 = SepConv_BN(x, 256, \\'aspp3\\',\\n                        rate=atrous_rates[2], depth_activation=True, epsilon=1e-5)\\n\\n        # concatenate ASPP branches & project\\n        x = Concatenate()([b4, b0, b1, b2, b3])\\n    else:\\n        x = Concatenate()([b4, b0])\\n\\n    x = Conv2D(256, (1, 1), padding=\\'same\\',\\n               use_bias=False, name=\\'concat_projection\\')(x)\\n    x = BatchNormalization(name=\\'concat_projection_BN\\', epsilon=1e-5)(x)\\n    x = Activation(\\'relu\\')(x)\\n    x = Dropout(0.1)(x)\\n    # DeepLab v.3+ decoder\\n\\n    if backbone == \\'xception\\':\\n        # # Feature projection\\n        # # x4 (x2) block\\n        # x = Lambda(lambda xx: tf.compat.v1.image.resize(xx,\\n        #                                         x.shape[1:3]*tf.constant(OS//4),\\n        #                                         method=\\'bilinear\\', align_corners=True))(x)\\n        x = BilinearUpsampling(output_size=(int(np.ceil(input_shape[0] / 4)),\\n                                            int(np.ceil(input_shape[1] / 4))))(x)\\n        dec_skip1 = Conv2D(48, (1, 1), padding=\\'same\\',\\n                           use_bias=False, name=\\'feature_projection0\\')(skip1)\\n        dec_skip1 = BatchNormalization(\\n            name=\\'feature_projection0_BN\\', epsilon=1e-5)(dec_skip1)\\n        dec_skip1 = Activation(\\'relu\\')(dec_skip1)\\n        x = Concatenate()([x, dec_skip1])\\n        x = SepConv_BN(x, 256, \\'decoder_conv0\\',\\n                       depth_activation=True, epsilon=1e-5)\\n        x = SepConv_BN(x, 256, \\'decoder_conv1\\',\\n                       depth_activation=True, epsilon=1e-5)\\n\\n    # you can use it with arbitary number of classes\\n    if (weights == \\'pascal_voc\\' and classes == 21) or (weights == \\'cityscapes\\' and classes == 19) or (weights == \\'angio\\' and classes==2):\\n        last_layer_name = \\'logits_semantic\\'\\n    else:\\n        last_layer_name = \\'custom_logits_semantic\\'\\n\\n    x = Conv2D(classes, (1, 1), padding=\\'same\\', name=last_layer_name)(x)\\n    # x = Lambda(lambda xx: tf.compat.v1.image.resize(xx,\\n    #                                                tf.shape(img_input)[1:3],\\n    #                                                method=\\'bilinear\\',align_corners=True))(x)\\n    x = BilinearUpsampling(output_size=(input_shape[0], input_shape[1]))(x)\\n\\n    # Ensure that the model takes into account\\n    # any potential predecessors of `input_tensor`.\\n    if input_tensor is not None:\\n        inputs = get_source_inputs(input_tensor)\\n    else:\\n        inputs = img_input\\n\\n    if activation in {\\'softmax\\',\\'sigmoid\\'}:\\n        x = tf.keras.layers.Activation(activation)(x)\\n\\n    model = Model(inputs, x, name=\\'deeplabv3plus\\')\\n\\n    # load weights\\n\\n    if weights == \\'pascal_voc\\':\\n        if backbone == \\'xception\\':\\n            weights_path = get_file(\\'deeplabv3_xception_tf_dim_ordering_tf_kernels.h5\\',\\n                                    WEIGHTS_PATH_X,\\n                                    cache_subdir=\\'models\\')\\n        else:\\n            weights_path = get_file(\\'deeplabv3_mobilenetv2_tf_dim_ordering_tf_kernels.h5\\',\\n                                    WEIGHTS_PATH_MOBILE,\\n                                    cache_subdir=\\'models\\')\\n        model.load_weights(weights_path, by_name=True)\\n    elif weights == \\'cityscapes\\':\\n        if backbone == \\'xception\\':\\n            weights_path = get_file(\\'deeplabv3_xception_tf_dim_ordering_tf_kernels_cityscapes.h5\\',\\n                                    WEIGHTS_PATH_X_CS,\\n                                    cache_subdir=\\'models\\')\\n        else:\\n            weights_path = get_file(\\'deeplabv3_mobilenetv2_tf_dim_ordering_tf_kernels_cityscapes.h5\\',\\n                                    WEIGHTS_PATH_MOBILE_CS,\\n                                    cache_subdir=\\'models\\')\\n        model.load_weights(weights_path, by_name=True)\\n    elif weights == \\'angio\\': #KRITIKA ADDED THIS TO LOAD ANGIO PRE-TRAINED LR005 FROM PURE TF\\n        if backbone == \\'xception\\':\\n            weights_path = \\'/home/cvbl/Kritika/keras-deeplab-v3-plus/models/deeplabv3_xception_tf_dim_ordering_tf_kernels.h5\\'\\n        else:\\n            raise ValueError(\\'The `backbone` argument should be `xception` \\'\\n                             \\'to load angio weights \\')\\n        model.load_weights(weights_path, by_name=True)\\n    return model\\n\\n\\ndef preprocess_input(x):\\n    \"\"\"Preprocesses a numpy array encoding a batch of images.\\n    # Arguments\\n        x: a 4D numpy array consists of RGB values within [0, 255].\\n    # Returns\\n        Input array scaled to [-1.,1.]\\n    \"\"\"\\n    return imagenet_utils.preprocess_input(x, mode=\\'tf\\')\\n'}"
            ]
          },
          "metadata": {
            "tags": []
          },
          "execution_count": 2
        }
      ]
    },
    {
      "cell_type": "code",
      "metadata": {
        "id": "pcTD_zwH9pYS",
        "colab_type": "code",
        "cellView": "form",
        "colab": {}
      },
      "source": [
        "#@title Upload saved keras weights (downloaded from MBox)\n",
        "def upload_files():\n",
        "  from google.colab import files\n",
        "  uploaded = files.upload()\n",
        "  for k, v in uploaded.items():\n",
        "    open(k, 'wb').write(v)\n",
        "  return list(uploaded.keys())\n",
        "upload_files()"
      ],
      "execution_count": 0,
      "outputs": []
    },
    {
      "cell_type": "code",
      "metadata": {
        "id": "uenzJ7K7NTPO",
        "colab_type": "code",
        "cellView": "form",
        "colab": {}
      },
      "source": [
        "#@title Python Imports\n",
        "\n",
        "import os\n",
        "from io import BytesIO\n",
        "import tensorflow as tf\n",
        "import numpy as np\n",
        "import matplotlib.pyplot as plt\n",
        "from skimage.filters import unsharp_mask\n",
        "from tensorflow.keras.preprocessing.image import ImageDataGenerator\n",
        "from model import preprocess_input\n",
        "from PIL import Image\n",
        "\n",
        "print(tf.__version__)"
      ],
      "execution_count": 0,
      "outputs": []
    },
    {
      "cell_type": "code",
      "metadata": {
        "id": "ELYaVN5CUNy5",
        "colab_type": "code",
        "cellView": "form",
        "colab": {}
      },
      "source": [
        "#@title create Deeplab model and load weights\n",
        "\n",
        "#create model instance\n",
        "\n",
        "def create_model():\n",
        "  from model import Deeplabv3\n",
        "  from tensorflow.keras.layers import Input, Conv2D, Dense, Activation, BatchNormalization\n",
        "  from tensorflow.keras.models import Sequential, Model\n",
        "  inputs = Input(shape=(512, 512, 1))\n",
        "\n",
        "  activation_func = None\n",
        "  X1 = Conv2D(1, (5,5), strides=(1, 1), padding='same', dilation_rate=(1, 1), activation=activation_func, \n",
        "              use_bias=False, data_format=\"channels_last\")(inputs)\n",
        "  X2 = Conv2D(1, (3,3), strides=(1, 1), padding='same', dilation_rate=(1, 1), activation=activation_func, \n",
        "              use_bias=False, data_format=\"channels_last\")(X1)\n",
        "  X3 = Conv2D(16, (5,5), strides=(1, 1), padding='same', dilation_rate=(1, 1), activation=activation_func, \n",
        "              use_bias=False, data_format=\"channels_last\")(X2)\n",
        "  X4 = Conv2D(16, (5,5), strides=(1, 1), padding='same', dilation_rate=(1, 1), activation=activation_func, \n",
        "              use_bias=False, data_format=\"channels_last\")(X3)\n",
        "  X5 = Conv2D(16, (5,5), strides=(1, 1), padding='same', dilation_rate=(1, 1), activation=activation_func, \n",
        "              use_bias=False, data_format=\"channels_last\")(X4)\n",
        "  X6 = Conv2D(1, (3,3), strides=(1, 1), padding='same', dilation_rate=(1, 1), activation='tanh', \n",
        "              use_bias=False, data_format=\"channels_last\")(X5)\n",
        "  X7 = tf.keras.layers.concatenate([X6, X6, X6], axis=3)  \n",
        "\n",
        "  unsharp_mask_model = Model(inputs=inputs, outputs=X7)\n",
        "  deeplab_model = Deeplabv3(weights=None,backbone='xception',input_shape=(512,512,3), classes=2)\n",
        "\n",
        "  combined_inputs = Input(shape=(512, 512, 1))\n",
        "  unsharp_mask_img = unsharp_mask_model(combined_inputs)\n",
        "  deeplab_img = deeplab_model(unsharp_mask_img)\n",
        "  model = Model(combined_inputs,deeplab_img)\n",
        "\n",
        "  return model\n",
        "\n",
        "model = create_model()\n",
        "model.load_weights('Demo_weights.h5')\n",
        "print('model loaded successfully!')"
      ],
      "execution_count": 0,
      "outputs": []
    },
    {
      "cell_type": "markdown",
      "metadata": {
        "id": "91Chsl4uUWVG",
        "colab_type": "text"
      },
      "source": [
        "# **Run on sample images**\n",
        "Upload any sample image file and copy the image filename to open it in the next code block"
      ]
    },
    {
      "cell_type": "code",
      "metadata": {
        "id": "UYaIIfDJkAD8",
        "colab_type": "code",
        "cellView": "both",
        "colab": {}
      },
      "source": [
        "#@title upload sample image zip folder\n",
        "files.upload()\n",
        "!unzip -uq best_images.zip -d ./\n",
        "!ls /content"
      ],
      "execution_count": 0,
      "outputs": []
    },
    {
      "cell_type": "code",
      "metadata": {
        "id": "IkEX12-hBlmH",
        "colab_type": "code",
        "colab": {},
        "cellView": "form"
      },
      "source": [
        "#@title Create data pipeline\n",
        "def label_preprocess(image):\n",
        "  x = image==1\n",
        "  x = x.astype('float32')\n",
        "  return x\n",
        "\n",
        "data_gen_args = dict(preprocessing_function = preprocess_input);\n",
        "label_gen_args = dict(preprocessing_function = label_preprocess);\n",
        "\n",
        "image_datagen = ImageDataGenerator(**data_gen_args)\n",
        "mask_datagen = ImageDataGenerator(**label_gen_args)\n",
        "\n",
        "seed = 0\n",
        "\n",
        "batchsize = 1;\n",
        "\n",
        "image_generator = image_datagen.flow_from_directory(\n",
        "    '/content/5goodimages/image',\n",
        "    target_size=(512,512),\n",
        "    color_mode='grayscale',\n",
        "    class_mode=None,\n",
        "    shuffle=False,\n",
        "    batch_size=batchsize,\n",
        "    seed=seed)\n",
        "\n",
        "mask_generator = mask_datagen.flow_from_directory(\n",
        "    '/content/5goodimages/label',\n",
        "    target_size=(512,512),\n",
        "    color_mode='grayscale',\n",
        "    class_mode=None,\n",
        "    shuffle=False,\n",
        "    batch_size=batchsize,\n",
        "    seed=seed)"
      ],
      "execution_count": 0,
      "outputs": []
    },
    {
      "cell_type": "code",
      "metadata": {
        "id": "-BrjAswzUbvf",
        "colab_type": "code",
        "colab": {}
      },
      "source": [
        "#@title Run on sample images\n",
        "\n",
        "inference = model.predict_generator(image_generator)\n",
        "print(inference.min())\n",
        "print(inference.max())"
      ],
      "execution_count": 0,
      "outputs": []
    },
    {
      "cell_type": "code",
      "metadata": {
        "id": "qVQPfftbIxML",
        "colab_type": "code",
        "colab": {}
      },
      "source": [
        "sess = tf.Session()\n",
        "img = image_generator.next()\n",
        "label = mask_generator.next()\n",
        "\n",
        "plt.figure(); plt.imshow(np.squeeze(img), cmap=\"gray\")\n",
        "plt.figure(); plt.imshow(np.squeeze(label), cmap=\"gray\")\n",
        "\n",
        "full_sample = tf.nn.softmax(inference[0,:,:,:])\n",
        "pred = tf.argmax(full_sample, axis=-1)\n",
        "q = sess.run(pred)\n",
        "print(q.min())\n",
        "print(q.max())\n",
        "q = q.astype('uint8')\n",
        "plt.figure()\n",
        "plt.imshow(q)"
      ],
      "execution_count": 0,
      "outputs": []
    },
    {
      "cell_type": "code",
      "metadata": {
        "id": "HqFHuwPe1Bc3",
        "colab_type": "code",
        "colab": {}
      },
      "source": [
        ""
      ],
      "execution_count": 0,
      "outputs": []
    }
  ]
}